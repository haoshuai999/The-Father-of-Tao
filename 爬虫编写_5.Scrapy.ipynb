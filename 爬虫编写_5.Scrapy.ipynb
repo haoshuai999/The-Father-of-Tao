{
 "cells": [
  {
   "cell_type": "markdown",
   "metadata": {},
   "source": [
    "##1. Scrapy\n",
    "Python开发的一个快速Web爬虫框架，用于抓取Web站点并从页面中提取结构化数据。<br/>\n",
    "Scrapy可用于数据挖掘、监测、自动化测试。"
   ]
  },
  {
   "cell_type": "markdown",
   "metadata": {},
   "source": [
    "需要安装的模块包：<br/>\n",
    "* 安装zope.interface<br/>\n",
    "\thttps://pypi.python.org/pypi/zope.interface/4.1.2\n",
    "* 安装Twisted<br/>\n",
    "\thttps://pypi.python.org/pypi/Twisted\n",
    "* 安装pyOpenSSL<br/>\n",
    "\thttps://pypi.python.org/pypi/pyOpenSSL\n",
    "* 安装pywin32<br/>\n",
    "    http://sourceforge.net/projects/pywin32/files/pywin32/\n",
    "* 安装Scrapy（pip install scrapy）"
   ]
  },
  {
   "cell_type": "markdown",
   "metadata": {},
   "source": [
    "##2. Scrapy抓取网页\n",
    "首先要用Scrapy生成Project，termianl中输入：scrapy startproject xxx<br/>\n",
    "再用Scrapy设置规则，抓取网页"
   ]
  },
  {
   "cell_type": "code",
   "execution_count": 2,
   "metadata": {
    "collapsed": false
   },
   "outputs": [],
   "source": [
    "import scrapy\n",
    "from scrapy.spiders import CrawlSpider\n",
    "from scrapy.http import Request\n",
    "from scrapy.selector import Selector\n",
    "# xxx = selector.xpath(xxxx).extract()"
   ]
  },
  {
   "cell_type": "markdown",
   "metadata": {},
   "source": [
    "##3. Scrapy文件结构\n",
    "一个Scrapy Project中包含：<br/>\n",
    "* items.py<br/>\n",
    "* settings.py<br/>\n",
    "* pipelines.py"
   ]
  },
  {
   "cell_type": "markdown",
   "metadata": {},
   "source": [
    "####items.py\n",
    "定义需要抓取 & 需要后期处理的数据。"
   ]
  },
  {
   "cell_type": "markdown",
   "metadata": {},
   "source": [
    "####settings.py\n",
    "配置Scrapy，如：修改user-agent，设定抓取时间间隔，设置代理，配置各种中间件等。"
   ]
  },
  {
   "cell_type": "markdown",
   "metadata": {},
   "source": [
    "####pipelines.py\n",
    "存放执行后期数据处理的功能，从而保证数据的抓取、处理是分开的。"
   ]
  }
 ],
 "metadata": {
  "anaconda-cloud": {},
  "kernelspec": {
   "display_name": "Python [Root]",
   "language": "python",
   "name": "Python [Root]"
  },
  "language_info": {
   "codemirror_mode": {
    "name": "ipython",
    "version": 3
   },
   "file_extension": ".py",
   "mimetype": "text/x-python",
   "name": "python",
   "nbconvert_exporter": "python",
   "pygments_lexer": "ipython3",
   "version": "3.5.2"
  }
 },
 "nbformat": 4,
 "nbformat_minor": 0
}
